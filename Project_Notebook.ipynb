{
 "cells": [
  {
   "cell_type": "code",
   "execution_count": 27,
   "metadata": {},
   "outputs": [],
   "source": [
    "import os\n",
    "import numpy as np\n",
    "from tqdm.notebook import tqdm\n",
    "import re\n",
    "import pandas as pd\n",
    "import nltk\n",
    "from nltk import word_tokenize\n",
    "from nltk.corpus import stopwords\n",
    "from gensim.models import Word2Vec as w2v"
   ]
  },
  {
   "cell_type": "code",
   "execution_count": 28,
   "metadata": {},
   "outputs": [],
   "source": [
    "BASE_DIR = r'C:\\Users\\Silen\\Documents\\Flickr8k'"
   ]
  },
  {
   "cell_type": "code",
   "execution_count": 29,
   "metadata": {},
   "outputs": [],
   "source": [
    "#getting just the caption information from the file\n",
    "with open(os.path.join(BASE_DIR, 'captions.txt'), 'r') as f:\n",
    "    next(f)\n",
    "    captions_doc = f.read()"
   ]
  },
  {
   "cell_type": "code",
   "execution_count": 30,
   "metadata": {},
   "outputs": [
    {
     "data": {
      "application/vnd.jupyter.widget-view+json": {
       "model_id": "2c74f3113ad64074b1057c7bc518911f",
       "version_major": 2,
       "version_minor": 0
      },
      "text/plain": [
       "  0%|          | 0/40456 [00:00<?, ?it/s]"
      ]
     },
     "metadata": {},
     "output_type": "display_data"
    }
   ],
   "source": [
    "image_dict = {}\n",
    "\n",
    "for line in tqdm(captions_doc.split('\\n')):\n",
    "    #tokens are formatted as \"{image_id},{caption}\"\n",
    "    tokens = line.split(',')\n",
    "    #tokens are now formatted as \"{image_id}\", \"{caption}\"\n",
    "    image_id, caption = tokens[0], tokens[1:]\n",
    "    #image_id is formatted as {id}.jpg\n",
    "    #remove .jpg from the {id}\n",
    "    image_id = image_id.split('.')[0]\n",
    "    #caption is currently a list\n",
    "    #convert caption from list to string\n",
    "    caption = ' '.join(caption)\n",
    "    #creates an index in the dict for image if not already there\n",
    "    if image_id not in image_dict:\n",
    "        image_dict[image_id] = []\n",
    "    #connects all the captions to their respective images in one dict\n",
    "    image_dict[image_id].append(caption)"
   ]
  },
  {
   "cell_type": "code",
   "execution_count": 31,
   "metadata": {},
   "outputs": [],
   "source": [
    "def cleanText(image_dict):\n",
    "    for key, captions in image_dict.items():\n",
    "        for i in range(len(captions)):\n",
    "            #load one caption at a time\n",
    "            caption=captions[i]\n",
    "            #lower case the whole string\n",
    "            caption=caption.lower()\n",
    "            #remove extra space\n",
    "            caption=re.sub('\\s\\s+', ' ', caption)\n",
    "            #get rid of any special characters or numbers\n",
    "            caption=re.sub('[^A-Za-z\\s]', '', caption)\n",
    "            #add begining and ending tags and get rid of one character words\n",
    "            caption='<start>' + ' '.join([word for word in caption.split() if len(word) > 1]) + '<end>'\n",
    "            #add caption back into list\n",
    "            captions[i]=caption\n"
   ]
  },
  {
   "cell_type": "code",
   "execution_count": 32,
   "metadata": {},
   "outputs": [
    {
     "data": {
      "text/plain": [
       "['A boy smiles in front of a stony wall in a city .',\n",
       " 'A little boy is standing on the street while a man in overalls is working on a stone wall .',\n",
       " 'A young boy runs aross the street .',\n",
       " 'A young child is walking on a stone paved street with a metal pole and a man behind him .',\n",
       " 'Smiling boy in white shirt and blue jeans in front of rock wall with man in overalls behind him .']"
      ]
     },
     "execution_count": 32,
     "metadata": {},
     "output_type": "execute_result"
    }
   ],
   "source": [
    "#before preprocessing\n",
    "image_dict['1015118661_980735411b']"
   ]
  },
  {
   "cell_type": "code",
   "execution_count": 33,
   "metadata": {},
   "outputs": [
    {
     "data": {
      "text/plain": [
       "['<start>boy smiles in front of stony wall in city<end>',\n",
       " '<start>little boy is standing on the street while man in overalls is working on stone wall<end>',\n",
       " '<start>young boy runs aross the street<end>',\n",
       " '<start>young child is walking on stone paved street with metal pole and man behind him<end>',\n",
       " '<start>smiling boy in white shirt and blue jeans in front of rock wall with man in overalls behind him<end>']"
      ]
     },
     "execution_count": 33,
     "metadata": {},
     "output_type": "execute_result"
    }
   ],
   "source": [
    "cleanText(image_dict)\n",
    "#after prepossing\n",
    "image_dict['1015118661_980735411b']"
   ]
  },
  {
   "cell_type": "code",
   "execution_count": 34,
   "metadata": {},
   "outputs": [],
   "source": [
    "# nltk.download('stopwords')\n",
    "sw = stopwords.words('english')"
   ]
  },
  {
   "cell_type": "code",
   "execution_count": 46,
   "metadata": {},
   "outputs": [],
   "source": [
    "def tokenize(clean_image_dict):\n",
    "    # gather all captions in one list\n",
    "    all_captions = []\n",
    "    for i in clean_image_dict:\n",
    "        for caption in clean_image_dict[i]:\n",
    "            all_captions.append(caption)\n",
    "    all_captions = [word_tokenize(caption) for caption in all_captions] #list of all captions\n",
    "\n",
    "    # remove stopwords\n",
    "    filtered_captions = []\n",
    "    for caption in all_captions:\n",
    "        original = caption\n",
    "        # removes stopword when detected in line\n",
    "        caption = [w for w in caption if w not in sw]\n",
    "        # if the whole line was deleted the original line is used instead\n",
    "        if len(caption) < 1:\n",
    "            caption = original\n",
    "        filtered_captions.append(caption)\n",
    "    \n",
    "    # creates word2vec keyedvector to store the vocabulary\n",
    "    # uses skip-gram as the training algorithm\n",
    "    # with a window of 3\n",
    "    w = w2v(\n",
    "        filtered_captions,\n",
    "        vector_size=256,\n",
    "        min_count=3,\n",
    "        sg=1\n",
    "    )\n",
    "    return w\n",
    "\n",
    "\n",
    "tokenized_captions = tokenize(image_dict)\n",
    "vocab = list(tokenized_captions.wv.index_to_key)"
   ]
  },
  {
   "cell_type": "code",
   "execution_count": 42,
   "metadata": {},
   "outputs": [
    {
     "data": {
      "text/plain": [
       "3978"
      ]
     },
     "execution_count": 42,
     "metadata": {},
     "output_type": "execute_result"
    }
   ],
   "source": [
    "len(tokenized_captions.wv)"
   ]
  },
  {
   "cell_type": "code",
   "execution_count": 43,
   "metadata": {},
   "outputs": [],
   "source": [
    "import torch\n",
    "import torch.nn as nn\n",
    "import torch.nn.functional as F\n",
    "import torchvision\n",
    "import torchvision.transforms as transforms\n",
    "from torch.nn.utils.rnn import pack_padded_sequence"
   ]
  },
  {
   "cell_type": "code",
   "execution_count": 39,
   "metadata": {},
   "outputs": [],
   "source": [
    "# loads the word vectors into a float tensor to pretrain a word embedding layer\n",
    "weight = torch.FloatTensor(tokenized_captions.wv.vectors)\n",
    "embedding = nn.Embedding.from_pretrained(weight)"
   ]
  },
  {
   "cell_type": "code",
   "execution_count": null,
   "metadata": {},
   "outputs": [],
   "source": [
    "#device configuration\n",
    "device = torch.device('cuda' if torch.cuda.is_available() else 'cpu')"
   ]
  },
  {
   "cell_type": "code",
   "execution_count": null,
   "metadata": {},
   "outputs": [],
   "source": [
    "#hyper parameters\n",
    "num_epochs = 4\n",
    "batch_size = 4\n",
    "learning_rate = 0.001"
   ]
  },
  {
   "cell_type": "code",
   "execution_count": null,
   "metadata": {},
   "outputs": [],
   "source": [
    "transform = transforms.Compose(\n",
    "    [transforms.ToTensor(),\n",
    "     transforms.Normalize((0.5, 0.5, 0.5), (0.5, 0.5, 0.5))]\n",
    ")"
   ]
  },
  {
   "cell_type": "code",
   "execution_count": null,
   "metadata": {},
   "outputs": [],
   "source": [
    "class EncoderCNN(nn.Module):\n",
    "    def __init__(self, embed_size):\n",
    "        super(EncoderCNN, self).__init__()\n",
    "        self.conv1 = nn.Conv2d(3, 6, 5)\n",
    "        self.pool = nn.MaxPool2d(2, 2)\n",
    "        self.conv2 = nn.Conv2d(6, 16, 5)\n",
    "        self.fc1 = nn.Linear(16*5*5, 128)\n",
    "        self.bn = nn.BatchNorm1d(embed_size, momentum=0.01)\n",
    "    def forward(self, x):\n",
    "        with torch.no_grad:\n",
    "            x = self.pool(F.relu(self.conv1(x)))\n",
    "            x = self.pool(F.relu(self.conv2(x)))\n",
    "        x = x.view(-1, 16*5*5)\n",
    "        x = self.bn(self.fc1(x))\n",
    "        return x\n",
    "\n",
    "model = EncoderCNN(256).to(device=device)"
   ]
  },
  {
   "cell_type": "code",
   "execution_count": 50,
   "metadata": {},
   "outputs": [],
   "source": [
    "class DecoderRNN(nn.Module):\n",
    "    def __init__(self, embed_size, hidden_size, vocab_size, num_layers, weight, max_seq_length=80):\n",
    "        super(DecoderRNN, self).__init__()\n",
    "        self.hidden_size = hidden_size\n",
    "        self.embed = nn.Embedding.from_pretrained(weight)\n",
    "        self.lstm = nn.LSTM(embed_size, hidden_size, num_layers)\n",
    "        self.linear = nn.Linear(hidden_size, vocab_size)\n",
    "        self.max_seq_length = max_seq_length\n",
    "        self.softmax = nn.LogSoftmax(dim=1)\n",
    "    def init_hidden(self,):\n",
    "        return(torch.zeros(1, self.hidden_size))\n",
    "    def forward(self, features, captions, lengths):\n",
    "        embeddings = self.embed(captions)\n",
    "        embeddings = torch.cat((features.unsqueeze(1), embeddings), 1)\n",
    "        #packed = pack_padded_sequence(embeddings, lengths.cpu())\n",
    "        outputs, _ = self.lstm(embeddings)\n",
    "        outputs = self.linear(outputs[0])\n",
    "    def predict(self, features, states=None):\n",
    "        sampled_ids = []\n",
    "        inputs = features.unsqueeze(1)\n",
    "        for i in range(self.max_seq_length):\n",
    "            hidden, states = self.lstm(inputs, states)\n",
    "            outputs = self.linear(hidden.squeeze(1))\n",
    "            _, predicted = outputs.max(1)\n",
    "            sampled_ids.append(predicted)\n",
    "            inputs = self.embed(predicted)\n",
    "            inputs = inputs.unsqueeze(1)\n",
    "        sampled_ids = torch.stack(sampled_ids, 1)\n",
    "        sentences = []\n",
    "        for sampled_id in sampled_ids:\n",
    "            sampled_id = sampled_id.cpu().numpy()\n",
    "            sampled_caption = []\n",
    "            for word_id in sampled_id:\n",
    "                word = vocab[word_id]\n",
    "                sampled_caption.append(word)\n",
    "                if word == '<end>':\n",
    "                    break\n",
    "                print(sampled_caption)\n",
    "            sentence = ' '.join(sampled_caption)\n",
    "            sentences.append(sentence)\n",
    "            return sentences"
   ]
  },
  {
   "cell_type": "code",
   "execution_count": null,
   "metadata": {},
   "outputs": [],
   "source": [
    "def train_batch(data, encoder, decoder, optimizer, criterion):\n",
    "    encoder.train()\n",
    "    decoder.train()\n",
    "    # TODO: Need dataloader to load batches at a time\n",
    "    images, captions"
   ]
  }
 ],
 "metadata": {
  "kernelspec": {
   "display_name": "Python 3",
   "language": "python",
   "name": "python3"
  },
  "language_info": {
   "codemirror_mode": {
    "name": "ipython",
    "version": 3
   },
   "file_extension": ".py",
   "mimetype": "text/x-python",
   "name": "python",
   "nbconvert_exporter": "python",
   "pygments_lexer": "ipython3",
   "version": "3.10.7"
  },
  "orig_nbformat": 4
 },
 "nbformat": 4,
 "nbformat_minor": 2
}
